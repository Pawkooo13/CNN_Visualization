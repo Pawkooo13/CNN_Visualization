{
 "cells": [
  {
   "cell_type": "code",
   "execution_count": 1,
   "metadata": {},
   "outputs": [],
   "source": [
    "import tensorflow as tf\n",
    "import numpy as np\n",
    "import matplotlib.pyplot as plt\n",
    "from tensorflow.keras.preprocessing.image import ImageDataGenerator\n",
    "from tensorflow.keras.preprocessing import image\n",
    "from tensorflow.keras.models import load_model"
   ]
  },
  {
   "cell_type": "code",
   "execution_count": 2,
   "metadata": {},
   "outputs": [],
   "source": [
    "(X_train, Y_train), (X_test, Y_test) = tf.keras.datasets.mnist.load_data()"
   ]
  },
  {
   "cell_type": "code",
   "execution_count": 3,
   "metadata": {},
   "outputs": [],
   "source": [
    "X_train = X_train.reshape((60000,28,28,1))\n",
    "X_train = X_train.astype('float32')/255\n",
    "\n",
    "X_test = X_test.reshape((10000,28,28,1))\n",
    "X_test = X_test.astype('float32')/255"
   ]
  },
  {
   "cell_type": "code",
   "execution_count": 3,
   "metadata": {},
   "outputs": [],
   "source": [
    "model = load_model('conv.h5')"
   ]
  },
  {
   "cell_type": "code",
   "execution_count": 5,
   "metadata": {},
   "outputs": [
    {
     "name": "stdout",
     "output_type": "stream",
     "text": [
      "Model: \"sequential\"\n",
      "_________________________________________________________________\n",
      " Layer (type)                Output Shape              Param #   \n",
      "=================================================================\n",
      " conv2d (Conv2D)             (None, 26, 26, 2)         20        \n",
      "                                                                 \n",
      " max_pooling2d (MaxPooling2D  (None, 13, 13, 2)        0         \n",
      " )                                                               \n",
      "                                                                 \n",
      " conv2d_1 (Conv2D)           (None, 11, 11, 2)         38        \n",
      "                                                                 \n",
      " max_pooling2d_1 (MaxPooling  (None, 5, 5, 2)          0         \n",
      " 2D)                                                             \n",
      "                                                                 \n",
      " flatten (Flatten)           (None, 50)                0         \n",
      "                                                                 \n",
      " dense (Dense)               (None, 50)                2550      \n",
      "                                                                 \n",
      " dense_1 (Dense)             (None, 10)                510       \n",
      "                                                                 \n",
      "=================================================================\n",
      "Total params: 3,118\n",
      "Trainable params: 3,118\n",
      "Non-trainable params: 0\n",
      "_________________________________________________________________\n"
     ]
    }
   ],
   "source": [
    "model.summary()"
   ]
  },
  {
   "cell_type": "markdown",
   "metadata": {},
   "source": [
    "### Mamy 7 warst modelu. Dwie konwolucyjne, dwie maxpooling, dwie gęste i jedną spłaszczającą "
   ]
  },
  {
   "cell_type": "markdown",
   "metadata": {},
   "source": [
    "## Budowa modelu zwracającego przetworzone obrazy każdej z warstw"
   ]
  },
  {
   "cell_type": "code",
   "execution_count": 6,
   "metadata": {},
   "outputs": [
    {
     "data": {
      "text/plain": [
       "[<KerasTensor: shape=(None, 26, 26, 2) dtype=float32 (created by layer 'conv2d')>,\n",
       " <KerasTensor: shape=(None, 13, 13, 2) dtype=float32 (created by layer 'max_pooling2d')>,\n",
       " <KerasTensor: shape=(None, 11, 11, 2) dtype=float32 (created by layer 'conv2d_1')>,\n",
       " <KerasTensor: shape=(None, 5, 5, 2) dtype=float32 (created by layer 'max_pooling2d_1')>,\n",
       " <KerasTensor: shape=(None, 50) dtype=float32 (created by layer 'flatten')>,\n",
       " <KerasTensor: shape=(None, 50) dtype=float32 (created by layer 'dense')>,\n",
       " <KerasTensor: shape=(None, 10) dtype=float32 (created by layer 'dense_1')>]"
      ]
     },
     "execution_count": 6,
     "metadata": {},
     "output_type": "execute_result"
    }
   ],
   "source": [
    "layer_outputs = [layer.output for layer in model.layers[:]]\n",
    "layer_outputs"
   ]
  },
  {
   "cell_type": "code",
   "execution_count": 7,
   "metadata": {},
   "outputs": [],
   "source": [
    "activation_model = tf.keras.models.Model(inputs = model.input, outputs = layer_outputs)"
   ]
  },
  {
   "cell_type": "code",
   "execution_count": 8,
   "metadata": {},
   "outputs": [
    {
     "name": "stdout",
     "output_type": "stream",
     "text": [
      "1/1 [==============================] - 0s 235ms/step\n"
     ]
    }
   ],
   "source": [
    "activations = activation_model.predict(X_train[0].reshape(1,28,28,1))"
   ]
  },
  {
   "cell_type": "markdown",
   "metadata": {},
   "source": [
    "### Wyniki pierwszej warstwy konwolucyjnej"
   ]
  },
  {
   "cell_type": "code",
   "execution_count": 9,
   "metadata": {},
   "outputs": [],
   "source": [
    "first_layer_activation = activations[0]"
   ]
  },
  {
   "cell_type": "code",
   "execution_count": 10,
   "metadata": {},
   "outputs": [
    {
     "data": {
      "text/plain": [
       "(1, 26, 26, 2)"
      ]
     },
     "execution_count": 10,
     "metadata": {},
     "output_type": "execute_result"
    }
   ],
   "source": [
    "first_layer_activation.shape"
   ]
  },
  {
   "cell_type": "markdown",
   "metadata": {},
   "source": [
    "### Wynik pierwszego filtra pierwszej warstwy konwolucyjnej"
   ]
  },
  {
   "cell_type": "code",
   "execution_count": 11,
   "metadata": {},
   "outputs": [
    {
     "data": {
      "text/plain": [
       "<matplotlib.image.AxesImage at 0x2592abd8be0>"
      ]
     },
     "execution_count": 11,
     "metadata": {},
     "output_type": "execute_result"
    },
    {
     "data": {
      "image/png": "[encoded data removed]",
      "text/plain": [
       "<Figure size 288x288 with 1 Axes>"
      ]
     },
     "metadata": {
      "needs_background": "light"
     },
     "output_type": "display_data"
    }
   ],
   "source": [
    "plt.matshow(first_layer_activation[0,:,:,0], cmap = 'gray')"
   ]
  },
  {
   "cell_type": "markdown",
   "metadata": {},
   "source": [
    "### Wynik drugiego filtra pierwszej warstwy konwolucyjnej"
   ]
  },
  {
   "cell_type": "code",
   "execution_count": 12,
   "metadata": {},
   "outputs": [
    {
     "data": {
      "text/plain": [
       "<matplotlib.image.AxesImage at 0x2592aced6d0>"
      ]
     },
     "execution_count": 12,
     "metadata": {},
     "output_type": "execute_result"
    },
    {
     "data": {
      "image/png": "[encoded data removed]",
      "text/plain": [
       "<Figure size 288x288 with 1 Axes>"
      ]
     },
     "metadata": {
      "needs_background": "light"
     },
     "output_type": "display_data"
    }
   ],
   "source": [
    "plt.matshow(first_layer_activation[0,:,:,1], cmap='gray')"
   ]
  },
  {
   "cell_type": "code",
   "execution_count": 13,
   "metadata": {},
   "outputs": [
    {
     "data": {
      "text/plain": [
       "(26, 26)"
      ]
     },
     "execution_count": 13,
     "metadata": {},
     "output_type": "execute_result"
    }
   ],
   "source": [
    "first_layer_activation[0,:,:,1].shape"
   ]
  },
  {
   "cell_type": "markdown",
   "metadata": {},
   "source": [
    "## Przekształcenia inputu"
   ]
  },
  {
   "cell_type": "code",
   "execution_count": 14,
   "metadata": {},
   "outputs": [
    {
     "data": {
      "text/plain": [
       "['conv2d',\n",
       " 'max_pooling2d',\n",
       " 'conv2d_1',\n",
       " 'max_pooling2d_1',\n",
       " 'flatten',\n",
       " 'dense',\n",
       " 'dense_1']"
      ]
     },
     "execution_count": 14,
     "metadata": {},
     "output_type": "execute_result"
    }
   ],
   "source": [
    "layers_name = []\n",
    "\n",
    "for layer in model.layers[:]:\n",
    "    layers_name.append(layer.name)\n",
    "    \n",
    "layers_name"
   ]
  },
  {
   "cell_type": "code",
   "execution_count": 15,
   "metadata": {},
   "outputs": [
    {
     "data": {
      "image/png": "[encoded data removed]",
      "text/plain": [
       "<Figure size 432x288 with 2 Axes>"
      ]
     },
     "metadata": {
      "needs_background": "light"
     },
     "output_type": "display_data"
    },
    {
     "data": {
      "image/png": "[encoded data removed]",
      "text/plain": [
       "<Figure size 432x288 with 2 Axes>"
      ]
     },
     "metadata": {
      "needs_background": "light"
     },
     "output_type": "display_data"
    },
    {
     "data": {
      "image/png": "[encoded data removed]",
      "text/plain": [
       "<Figure size 432x288 with 2 Axes>"
      ]
     },
     "metadata": {
      "needs_background": "light"
     },
     "output_type": "display_data"
    },
    {
     "data": {
      "image/png": "[encoded data removed]",
      "text/plain": [
       "<Figure size 432x288 with 2 Axes>"
      ]
     },
     "metadata": {
      "needs_background": "light"
     },
     "output_type": "display_data"
    }
   ],
   "source": [
    "for i in range(4):\n",
    "    fig, (ax1, ax2) = plt.subplots(1,2)\n",
    "    fig.suptitle(str(layers_name[i]))\n",
    "    ax1.matshow(activations[i][0,:,:,0], cmap='gray')\n",
    "    ax2.matshow(activations[i][0,:,:,1], cmap='gray')"
   ]
  },
  {
   "cell_type": "markdown",
   "metadata": {},
   "source": [
    "## Filtry konwolucyjne"
   ]
  },
  {
   "cell_type": "code",
   "execution_count": 16,
   "metadata": {},
   "outputs": [
    {
     "name": "stdout",
     "output_type": "stream",
     "text": [
      "['conv2d', 'conv2d_1']\n",
      "[0, 2]\n"
     ]
    }
   ],
   "source": [
    "conv_layers = list(filter(lambda x: 'conv' in x, layers_name))\n",
    "\n",
    "conv_index = []\n",
    "\n",
    "for i in range(len(layers_name)):\n",
    "    if layers_name[i] in conv_layers:\n",
    "        conv_index.append(i)\n",
    "\n",
    "print(conv_layers)\n",
    "print(conv_index)"
   ]
  },
  {
   "cell_type": "code",
   "execution_count": 17,
   "metadata": {},
   "outputs": [],
   "source": [
    "def conv_plot(n_layer):\n",
    "    filters, biases = model.layers[n_layer].get_weights()\n",
    "    dim_x = filters.shape[2]\n",
    "    dim_y = filters.shape[3]\n",
    "    \n",
    "    fig, axs = plt.subplots(dim_x, dim_y)\n",
    "    \n",
    "    plt.suptitle(str(model.layers[n_layer].name))\n",
    "    \n",
    "    for i in range(dim_x):\n",
    "        for j in range(dim_y):\n",
    "            if dim_x == 1:\n",
    "                axs[j].imshow(filters[:,:,:,j][:,:,i], cmap='gray')\n",
    "                axs[j].set_xticks([])\n",
    "                axs[j].set_yticks([])\n",
    "            else:\n",
    "                axs[i,j].imshow(filters[:,:,:,j][:,:,i], cmap='gray')\n",
    "                axs[i,j].set_xticks([])\n",
    "                axs[i,j].set_yticks([])"
   ]
  },
  {
   "cell_type": "code",
   "execution_count": 18,
   "metadata": {},
   "outputs": [
    {
     "data": {
      "image/png": "[encoded data removed]",
      "text/plain": [
       "<Figure size 432x288 with 2 Axes>"
      ]
     },
     "metadata": {},
     "output_type": "display_data"
    }
   ],
   "source": [
    "conv_plot(conv_index[0])"
   ]
  },
  {
   "cell_type": "code",
   "execution_count": 19,
   "metadata": {},
   "outputs": [
    {
     "data": {
      "image/png": "[encoded data removed]",
      "text/plain": [
       "<Figure size 432x288 with 4 Axes>"
      ]
     },
     "metadata": {},
     "output_type": "display_data"
    }
   ],
   "source": [
    "conv_plot(conv_index[1])"
   ]
  },
  {
   "cell_type": "markdown",
   "metadata": {},
   "source": [
    "## Sprawdzenie wyników"
   ]
  },
  {
   "cell_type": "code",
   "execution_count": 20,
   "metadata": {},
   "outputs": [
    {
     "data": {
      "text/plain": [
       "<matplotlib.image.AxesImage at 0x2592ae36130>"
      ]
     },
     "execution_count": 20,
     "metadata": {},
     "output_type": "execute_result"
    },
    {
     "data": {
      "image/png": "[encoded data removed]",
      "text/plain": [
       "<Figure size 432x288 with 1 Axes>"
      ]
     },
     "metadata": {
      "needs_background": "light"
     },
     "output_type": "display_data"
    }
   ],
   "source": [
    "x = X_train[0].reshape(28,28)\n",
    "\n",
    "plt.imshow(x, cmap='gray')"
   ]
  },
  {
   "cell_type": "code",
   "execution_count": 21,
   "metadata": {},
   "outputs": [
    {
     "name": "stdout",
     "output_type": "stream",
     "text": [
      "[-0.21284048  0.08991239]\n"
     ]
    }
   ],
   "source": [
    "filters, biases = model.layers[conv_index[0]].get_weights()\n",
    "kernel = filters[:,:,:, 0][:,:,0]\n",
    "\n",
    "print(biases)"
   ]
  },
  {
   "cell_type": "code",
   "execution_count": 22,
   "metadata": {},
   "outputs": [],
   "source": [
    "def get_filter(n_layer, n, n_filter):\n",
    "    filters = model.layers[n_layer].get_weights()[0]\n",
    "    return filters[:,:,:,n][:,:,n_filter]"
   ]
  },
  {
   "cell_type": "code",
   "execution_count": 23,
   "metadata": {},
   "outputs": [],
   "source": [
    "def get_bias(n_layer, n_bias):\n",
    "    biases = model.layers[n_layer].get_weights()[1]\n",
    "    return biases[n_bias]"
   ]
  },
  {
   "cell_type": "code",
   "execution_count": 24,
   "metadata": {},
   "outputs": [],
   "source": [
    "f1 = get_filter(conv_index[0], 0, 0)\n",
    "b1 = get_bias(conv_index[0], 0)"
   ]
  },
  {
   "cell_type": "code",
   "execution_count": 25,
   "metadata": {},
   "outputs": [
    {
     "data": {
      "text/plain": [
       "<matplotlib.image.AxesImage at 0x2592ad6b3a0>"
      ]
     },
     "execution_count": 25,
     "metadata": {},
     "output_type": "execute_result"
    },
    {
     "data": {
      "image/png": "[encoded data removed]",
      "text/plain": [
       "<Figure size 432x288 with 1 Axes>"
      ]
     },
     "metadata": {
      "needs_background": "light"
     },
     "output_type": "display_data"
    }
   ],
   "source": [
    "plt.imshow(f1, cmap='gray')"
   ]
  },
  {
   "cell_type": "code",
   "execution_count": 26,
   "metadata": {},
   "outputs": [
    {
     "data": {
      "text/plain": [
       "-0.21284048"
      ]
     },
     "execution_count": 26,
     "metadata": {},
     "output_type": "execute_result"
    }
   ],
   "source": [
    "b1"
   ]
  },
  {
   "cell_type": "code",
   "execution_count": 27,
   "metadata": {},
   "outputs": [],
   "source": [
    "f2 = get_filter(conv_index[0], 1, 0)\n",
    "b2 = get_bias(conv_index[0], 1)"
   ]
  },
  {
   "cell_type": "code",
   "execution_count": 28,
   "metadata": {},
   "outputs": [
    {
     "data": {
      "text/plain": [
       "<matplotlib.image.AxesImage at 0x2592adb2ca0>"
      ]
     },
     "execution_count": 28,
     "metadata": {},
     "output_type": "execute_result"
    },
    {
     "data": {
      "image/png": "[encoded data removed]",
      "text/plain": [
       "<Figure size 432x288 with 1 Axes>"
      ]
     },
     "metadata": {
      "needs_background": "light"
     },
     "output_type": "display_data"
    }
   ],
   "source": [
    "plt.imshow(f2, cmap='gray')"
   ]
  },
  {
   "cell_type": "code",
   "execution_count": 29,
   "metadata": {},
   "outputs": [
    {
     "data": {
      "text/plain": [
       "0.08991239"
      ]
     },
     "execution_count": 29,
     "metadata": {},
     "output_type": "execute_result"
    }
   ],
   "source": [
    "b2"
   ]
  },
  {
   "cell_type": "markdown",
   "metadata": {},
   "source": [
    "### Funkcje wykonujące operacje warstwy konwolucyjnej (iloczyn splotowy)"
   ]
  },
  {
   "cell_type": "code",
   "execution_count": 30,
   "metadata": {},
   "outputs": [],
   "source": [
    "def calc(img, kernel, a, b):\n",
    "    s = 0\n",
    "    for i in range(kernel.shape[0]):\n",
    "        for j in range(kernel.shape[1]):\n",
    "            s += kernel[i][j] * img[a+i][b+j]\n",
    "    return s"
   ]
  },
  {
   "cell_type": "code",
   "execution_count": 31,
   "metadata": {},
   "outputs": [],
   "source": [
    "def conv(img, kernel, bias):\n",
    "    output = []\n",
    "    \n",
    "    dim_x = img.shape[0] - kernel.shape[0] + 1\n",
    "    dim_y = img.shape[1] - kernel.shape[1] + 1\n",
    "    \n",
    "    for i in range(dim_x):\n",
    "        values = []\n",
    "        \n",
    "        for j in range(dim_y):\n",
    "            value = calc(img, kernel, i, j) + bias\n",
    "            print(value)\n",
    "            values.append(value)\n",
    "        output.append(values)\n",
    "        \n",
    "    return output"
   ]
  },
  {
   "cell_type": "code",
   "execution_count": 32,
   "metadata": {},
   "outputs": [
    {
     "name": "stdout",
     "output_type": "stream",
     "text": [
      "-0.2128404825925827\n",
      "-0.2128404825925827\n",
      "-0.2128404825925827\n",
      "-0.2128404825925827\n",
      "-0.2128404825925827\n",
      "-0.2128404825925827\n",
      "-0.2128404825925827\n",
      "-0.2128404825925827\n",
      "-0.2128404825925827\n",
      "-0.2128404825925827\n",
      "-0.2128404825925827\n",
      "-0.2128404825925827\n",
      "-0.2128404825925827\n",
      "-0.2128404825925827\n",
      "-0.2128404825925827\n",
      "-0.2128404825925827\n",
      "-0.2128404825925827\n",
      "-0.2128404825925827\n",
      "-0.2128404825925827\n",
      "-0.2128404825925827\n",
      "-0.2128404825925827\n",
      "-0.2128404825925827\n",
      "-0.2128404825925827\n",
      "-0.2128404825925827\n",
      "-0.2128404825925827\n",
      "-0.2128404825925827\n",
      "-0.2128404825925827\n",
      "-0.2128404825925827\n",
      "-0.2128404825925827\n",
      "-0.2128404825925827\n",
      "-0.2128404825925827\n",
      "-0.2128404825925827\n",
      "-0.2128404825925827\n",
      "-0.2128404825925827\n",
      "-0.2128404825925827\n",
      "-0.2128404825925827\n",
      "-0.2128404825925827\n",
      "-0.2128404825925827\n",
      "-0.2128404825925827\n",
      "-0.2128404825925827\n",
      "-0.2128404825925827\n",
      "-0.2128404825925827\n",
      "-0.2128404825925827\n",
      "-0.2128404825925827\n",
      "-0.2128404825925827\n",
      "-0.2128404825925827\n",
      "-0.2128404825925827\n",
      "-0.2128404825925827\n",
      "-0.2128404825925827\n",
      "-0.2128404825925827\n",
      "-0.2128404825925827\n",
      "-0.2128404825925827\n",
      "-0.2128404825925827\n",
      "-0.2128404825925827\n",
      "-0.2128404825925827\n",
      "-0.2128404825925827\n",
      "-0.2128404825925827\n",
      "-0.2128404825925827\n",
      "-0.2128404825925827\n",
      "-0.2128404825925827\n",
      "-0.2128404825925827\n",
      "-0.2128404825925827\n",
      "-0.2128404825925827\n",
      "-0.2128404825925827\n",
      "-0.2128404825925827\n",
      "-0.2128404825925827\n",
      "-0.2128404825925827\n",
      "-0.2128404825925827\n",
      "-0.2128404825925827\n",
      "-0.2128404825925827\n",
      "-0.2128404825925827\n",
      "-0.2128404825925827\n",
      "-0.2128404825925827\n",
      "-0.2128404825925827\n",
      "-0.2128404825925827\n",
      "-0.2128404825925827\n",
      "-0.2128404825925827\n",
      "-0.2128404825925827\n",
      "-0.2128404825925827\n",
      "-0.2128404825925827\n",
      "-0.2128404825925827\n",
      "-0.2128404825925827\n",
      "-0.2128404825925827\n",
      "-0.2128404825925827\n",
      "-0.2128404825925827\n",
      "-0.2128404825925827\n",
      "-0.2128404825925827\n",
      "-0.2128404825925827\n",
      "-0.20286668464541435\n",
      "-0.14351581782102585\n",
      "-0.10360899241641164\n",
      "-0.14112170040607452\n",
      "0.2179350145161152\n",
      "0.5925285033881664\n",
      "0.4837026745080948\n",
      "0.08659317344427109\n",
      "-0.016428962349891663\n",
      "1.0945740193128586\n",
      "0.9991541653871536\n",
      "0.3523418456315994\n",
      "-0.42915038764476776\n",
      "-0.5304480642080307\n",
      "-0.2128404825925827\n",
      "-0.2128404825925827\n",
      "-0.2128404825925827\n",
      "-0.2128404825925827\n",
      "-0.2128404825925827\n",
      "-0.2128404825925827\n",
      "-0.2128404825925827\n",
      "-0.2128404825925827\n",
      "-0.1131025031208992\n",
      "0.0016638338565826416\n",
      "0.1384289264678955\n",
      "0.5062160566449165\n",
      "0.6146728545427322\n",
      "0.8389256973750889\n",
      "1.0202696276828647\n",
      "0.7473892867565155\n",
      "1.1316848993301392\n",
      "0.9662993401288986\n",
      "0.5231436043977737\n",
      "-0.38785527646541595\n",
      "0.38956502452492714\n",
      "1.4464693740010262\n",
      "0.2492382675409317\n",
      "-1.1069390028715134\n",
      "-1.8099881559610367\n",
      "-0.92585289478302\n",
      "-0.2128404825925827\n",
      "-0.2128404825925827\n",
      "-0.2128404825925827\n",
      "-0.2128404825925827\n",
      "-0.2128404825925827\n",
      "-0.2128404825925827\n",
      "-0.2128404825925827\n",
      "-0.04993511736392975\n",
      "0.8400335386395454\n",
      "1.3302442245185375\n",
      "0.969589501619339\n",
      "1.0115227848291397\n",
      "0.7198530547320843\n",
      "0.8006379530997947\n",
      "0.562034681905061\n",
      "0.16405973583459854\n",
      "0.7248987555503845\n",
      "0.7185359038412571\n",
      "0.021570876240730286\n",
      "-1.462657555937767\n",
      "0.10958747658878565\n",
      "0.8502681851387024\n",
      "-0.21350554376840591\n",
      "-1.499103806912899\n",
      "-1.9417866505682468\n",
      "-0.8013157993555069\n",
      "-0.2128404825925827\n",
      "-0.2128404825925827\n",
      "-0.2128404825925827\n",
      "-0.2128404825925827\n",
      "-0.2128404825925827\n",
      "-0.2128404825925827\n",
      "-0.2128404825925827\n",
      "0.021358665078878403\n",
      "1.4836201593279839\n",
      "1.6920726420357823\n",
      "0.6711816266179085\n",
      "0.7900485545396805\n",
      "0.7029529064893723\n",
      "0.9799459725618362\n",
      "0.7183718606829643\n",
      "0.28886374086141586\n",
      "0.5919392928481102\n",
      "0.8103292211890221\n",
      "-0.8763094320893288\n",
      "-1.621276043355465\n",
      "0.20410862565040588\n",
      "0.19292672723531723\n",
      "-0.2555929869413376\n",
      "-0.8804963231086731\n",
      "-0.8889565914869308\n",
      "-0.3689698427915573\n",
      "-0.2128404825925827\n",
      "-0.2128404825925827\n",
      "-0.2128404825925827\n",
      "-0.2128404825925827\n",
      "-0.2128404825925827\n",
      "-0.2128404825925827\n",
      "-0.2128404825925827\n",
      "0.10566355288028717\n",
      "2.0113911647349596\n",
      "2.0534780398011208\n",
      "0.5240479782223701\n",
      "0.4798756465315819\n",
      "1.0638683065772057\n",
      "0.53916385024786\n",
      "-0.4532245323061943\n",
      "-0.9375032112002373\n",
      "0.15638426505029202\n",
      "0.6058060303330421\n",
      "-1.611813485622406\n",
      "-1.8782535046339035\n",
      "-0.05310434103012085\n",
      "-0.16128641366958618\n",
      "-0.23713399283587933\n",
      "-0.36810262501239777\n",
      "-0.30798181146383286\n",
      "-0.2128404825925827\n",
      "-0.2128404825925827\n",
      "-0.2128404825925827\n",
      "-0.2128404825925827\n",
      "-0.2128404825925827\n",
      "-0.2128404825925827\n",
      "-0.2128404825925827\n",
      "-0.2128404825925827\n",
      "-0.11936730891466141\n",
      "1.2004727274179459\n",
      "1.4051170013844967\n",
      "0.23544532572850585\n",
      "0.8648522410076112\n",
      "1.6517405284103006\n",
      "0.23362072557210922\n",
      "-1.7149608060717583\n",
      "-1.1177165191620588\n",
      "0.6048781126737595\n",
      "0.9445204064249992\n",
      "-1.404431439936161\n",
      "-1.4712813347578049\n",
      "-0.2128404825925827\n",
      "-0.2128404825925827\n",
      "-0.2128404825925827\n",
      "-0.2128404825925827\n",
      "-0.2128404825925827\n",
      "-0.2128404825925827\n",
      "-0.2128404825925827\n",
      "-0.2128404825925827\n",
      "-0.2128404825925827\n",
      "-0.2128404825925827\n",
      "-0.2128404825925827\n",
      "-0.2128404825925827\n",
      "-0.2128404825925827\n",
      "-0.2128404825925827\n",
      "0.20259584486484528\n",
      "0.6088222078979015\n",
      "0.05055488832294941\n",
      "1.6165261045098305\n",
      "2.608747383579612\n",
      "0.3761739656329155\n",
      "-2.1655259812250733\n",
      "-1.5789021127857268\n",
      "-0.02137988107278943\n",
      "0.566312775015831\n",
      "-0.39137934893369675\n",
      "-0.5885267406702042\n",
      "-0.2128404825925827\n",
      "-0.2128404825925827\n",
      "-0.2128404825925827\n",
      "-0.2128404825925827\n",
      "-0.2128404825925827\n",
      "-0.2128404825925827\n",
      "-0.2128404825925827\n",
      "-0.2128404825925827\n",
      "-0.2128404825925827\n",
      "-0.2128404825925827\n",
      "-0.2128404825925827\n",
      "-0.2128404825925827\n",
      "-0.2128404825925827\n",
      "-0.2128404825925827\n",
      "-0.2128404825925827\n",
      "-0.1401391252875328\n",
      "-0.21434202371165156\n",
      "1.083416298031807\n",
      "2.332932837307453\n",
      "0.7720750030130148\n",
      "-1.7638778984546661\n",
      "-1.6748499423265457\n",
      "-0.39660779014229774\n",
      "-0.2128404825925827\n",
      "-0.2128404825925827\n",
      "-0.2128404825925827\n",
      "-0.2128404825925827\n",
      "-0.2128404825925827\n",
      "-0.2128404825925827\n",
      "-0.2128404825925827\n",
      "-0.2128404825925827\n",
      "-0.2128404825925827\n",
      "-0.2128404825925827\n",
      "-0.2128404825925827\n",
      "-0.2128404825925827\n",
      "-0.2128404825925827\n",
      "-0.2128404825925827\n",
      "-0.2128404825925827\n",
      "-0.2128404825925827\n",
      "-0.2128404825925827\n",
      "-0.2128404825925827\n",
      "-0.2128404825925827\n",
      "-0.2128404825925827\n",
      "0.5481213927268982\n",
      "1.806477727368474\n",
      "1.7243969142436981\n",
      "-0.5372588038444519\n",
      "-1.2687533497810364\n",
      "-0.22043359279632568\n",
      "-0.26830400386825204\n",
      "-0.47977133211679757\n",
      "-0.2153413298074156\n",
      "-0.2128404825925827\n",
      "-0.2128404825925827\n",
      "-0.2128404825925827\n",
      "-0.2128404825925827\n",
      "-0.2128404825925827\n",
      "-0.2128404825925827\n",
      "-0.2128404825925827\n",
      "-0.2128404825925827\n",
      "-0.2128404825925827\n",
      "-0.2128404825925827\n",
      "-0.2128404825925827\n",
      "-0.2128404825925827\n",
      "-0.2128404825925827\n",
      "-0.2128404825925827\n",
      "-0.2128404825925827\n",
      "-0.2128404825925827\n",
      "-0.2128404825925827\n",
      "-0.15571798756718636\n",
      "0.8931010663509369\n",
      "2.0450007617473602\n",
      "0.819860927760601\n",
      "-0.3650788217782974\n",
      "-0.23613446950912476\n",
      "-0.5443399995565414\n",
      "-0.8584185019135475\n",
      "-0.43577967770397663\n",
      "-0.27536165714263916\n",
      "-0.2128404825925827\n",
      "-0.2128404825925827\n",
      "-0.2128404825925827\n",
      "-0.2128404825925827\n",
      "-0.2128404825925827\n",
      "-0.2128404825925827\n",
      "-0.2128404825925827\n",
      "-0.2128404825925827\n",
      "-0.2128404825925827\n",
      "-0.2128404825925827\n",
      "-0.2128404825925827\n",
      "-0.2128404825925827\n",
      "-0.2128404825925827\n",
      "-0.2128404825925827\n",
      "-0.2128404825925827\n",
      "-0.2128404825925827\n",
      "-0.2128404825925827\n",
      "-0.031087085604667664\n",
      "1.310146912932396\n",
      "1.607820749282837\n",
      "0.784098319709301\n",
      "0.423559807240963\n",
      "-0.6229230388998985\n",
      "-1.045215979218483\n",
      "-0.848783154040575\n",
      "-0.6114807426929474\n",
      "-0.2803633511066437\n",
      "-0.2128404825925827\n",
      "-0.2128404825925827\n",
      "-0.2128404825925827\n",
      "-0.2128404825925827\n",
      "-0.2128404825925827\n",
      "-0.2128404825925827\n",
      "-0.2128404825925827\n",
      "-0.2128404825925827\n",
      "-0.2128404825925827\n",
      "-0.2128404825925827\n",
      "-0.2128404825925827\n",
      "-0.2128404825925827\n",
      "-0.2128404825925827\n",
      "-0.2128404825925827\n",
      "-0.2128404825925827\n",
      "-0.2128404825925827\n",
      "-0.2128404825925827\n",
      "0.20778881013393402\n",
      "1.154859185218811\n",
      "1.4199120849370956\n",
      "1.1124760694801807\n",
      "0.3782830722630024\n",
      "-0.390702273696661\n",
      "-1.0085847368463874\n",
      "-1.0188484266400337\n",
      "-0.798056922852993\n",
      "-0.2128404825925827\n",
      "-0.2128404825925827\n",
      "-0.2128404825925827\n",
      "-0.2128404825925827\n",
      "-0.2128404825925827\n",
      "-0.2128404825925827\n",
      "-0.2128404825925827\n",
      "-0.2128404825925827\n",
      "-0.2128404825925827\n",
      "-0.2128404825925827\n",
      "-0.2128404825925827\n",
      "-0.2128404825925827\n",
      "-0.2128404825925827\n",
      "-0.2128404825925827\n",
      "-0.2128404825925827\n",
      "-0.2128404825925827\n",
      "-0.2128404825925827\n",
      "-0.2128404825925827\n",
      "0.020842447876930237\n",
      "0.7884636372327805\n",
      "1.2034054100513458\n",
      "2.008041627705097\n",
      "1.4824432358145714\n",
      "-0.6593990176916122\n",
      "-1.674159630201757\n",
      "-1.5133368447422981\n",
      "-0.3728947043418884\n",
      "-0.2128404825925827\n",
      "-0.2128404825925827\n",
      "-0.2128404825925827\n",
      "-0.2128404825925827\n",
      "-0.2128404825925827\n",
      "-0.2128404825925827\n",
      "-0.2128404825925827\n",
      "-0.2128404825925827\n",
      "-0.2128404825925827\n",
      "-0.2128404825925827\n",
      "-0.2128404825925827\n",
      "-0.2128404825925827\n",
      "-0.2128404825925827\n",
      "-0.2128404825925827\n",
      "-0.2128404825925827\n",
      "-0.2128404825925827\n",
      "-0.2128404825925827\n",
      "-0.0599089115858078\n",
      "0.44783343374729156\n",
      "1.1666973307728767\n",
      "2.9927037209272385\n",
      "2.373611129820347\n",
      "0.20870038121938705\n",
      "-2.228450250811875\n",
      "-2.3836238854564726\n",
      "-0.49649830209091306\n",
      "-0.2128404825925827\n",
      "-0.2128404825925827\n",
      "-0.2128404825925827\n",
      "-0.2128404825925827\n",
      "-0.2128404825925827\n",
      "-0.2128404825925827\n",
      "-0.2128404825925827\n",
      "-0.2128404825925827\n",
      "-0.2128404825925827\n",
      "-0.2128404825925827\n",
      "-0.2128404825925827\n",
      "-0.2128404825925827\n",
      "-0.2128404825925827\n",
      "-0.2128404825925827\n",
      "-0.2128404825925827\n",
      "-0.08318109810352325\n",
      "0.4024645984172821\n",
      "1.0824136659502983\n",
      "1.3589211776852608\n",
      "1.0642040520906448\n",
      "2.0819501727819443\n",
      "1.612662397325039\n",
      "0.278520904481411\n",
      "-2.1463702097535133\n",
      "-2.2110387980937958\n",
      "-0.3776778466999531\n",
      "-0.2128404825925827\n",
      "-0.2128404825925827\n",
      "-0.2128404825925827\n",
      "-0.2128404825925827\n",
      "-0.2128404825925827\n",
      "-0.2128404825925827\n",
      "-0.2128404825925827\n",
      "-0.2128404825925827\n",
      "-0.2128404825925827\n",
      "-0.2128404825925827\n",
      "-0.2128404825925827\n",
      "-0.2128404825925827\n",
      "-0.2128404825925827\n",
      "-0.1330500990152359\n",
      "0.24201883375644684\n",
      "0.9609602354466915\n",
      "1.4957400038838387\n",
      "1.4837514758110046\n",
      "1.2780228108167648\n",
      "1.0035305991768837\n",
      "0.8593990057706833\n",
      "0.11267881840467453\n",
      "-1.0513764396309853\n",
      "-2.5408719331026077\n",
      "-1.511206015944481\n",
      "-0.21771952509880066\n",
      "-0.2128404825925827\n",
      "-0.2128404825925827\n",
      "-0.2128404825925827\n",
      "-0.2128404825925827\n",
      "-0.2128404825925827\n",
      "-0.2128404825925827\n",
      "-0.2128404825925827\n",
      "-0.2128404825925827\n",
      "-0.2128404825925827\n",
      "-0.2128404825925827\n",
      "-0.2128404825925827\n",
      "-0.13637469708919525\n",
      "0.07927745580673218\n",
      "0.7317799441516399\n",
      "1.4974259473383427\n",
      "1.567519150674343\n",
      "1.537765845656395\n",
      "1.2857079580426216\n",
      "0.7835175916552544\n",
      "0.011627726256847382\n",
      "-0.7268418418243527\n",
      "-1.0470675327815115\n",
      "-1.0297661651857197\n",
      "-1.2493613213300705\n",
      "-0.6568333357572556\n",
      "-0.2128404825925827\n",
      "-0.2128404825925827\n",
      "-0.2128404825925827\n",
      "-0.2128404825925827\n",
      "-0.2128404825925827\n",
      "-0.2128404825925827\n",
      "-0.2128404825925827\n",
      "-0.2128404825925827\n",
      "-0.2128404825925827\n",
      "-0.2128404825925827\n",
      "-0.1529976911842823\n",
      "0.4125572368502617\n",
      "1.0925390385091305\n",
      "1.084863554686308\n",
      "1.5398267731070518\n",
      "1.5922566512599587\n",
      "1.3318472430109978\n",
      "0.8603129908442497\n",
      "0.018337391316890717\n",
      "-0.7099026087671518\n",
      "-0.9906061328947544\n",
      "-0.9354443643242121\n",
      "-0.8774984702467918\n",
      "-0.7491901405155659\n",
      "-0.403123140335083\n",
      "-0.2128404825925827\n",
      "-0.2128404825925827\n",
      "-0.2128404825925827\n",
      "-0.2128404825925827\n",
      "-0.2128404825925827\n",
      "-0.2128404825925827\n",
      "-0.2128404825925827\n",
      "-0.2128404825925827\n",
      "-0.2128404825925827\n",
      "-0.02998751401901245\n",
      "0.5328249633312225\n",
      "1.0086491107940674\n",
      "1.487411916255951\n",
      "1.3648615404963493\n",
      "0.875138059258461\n",
      "1.289571713656187\n",
      "1.1441407576203346\n",
      "0.3689279779791832\n",
      "-0.6689566895365715\n",
      "-1.1148056015372276\n",
      "-0.9161940608173609\n",
      "-0.8691568076610565\n",
      "-0.7633982226252556\n",
      "-0.4113980531692505\n",
      "-0.21771952509880066\n",
      "-0.2128404825925827\n",
      "-0.2128404825925827\n",
      "-0.2128404825925827\n",
      "-0.2128404825925827\n",
      "-0.2128404825925827\n",
      "-0.2128404825925827\n",
      "-0.2128404825925827\n",
      "-0.2128404825925827\n",
      "-0.2128404825925827\n",
      "-0.2128404825925827\n",
      "0.43501116335392\n",
      "1.5678094178438187\n",
      "1.4259222224354744\n",
      "1.4054093211889267\n",
      "1.1159317791461945\n",
      "0.39315512031316757\n",
      "0.10899292677640915\n",
      "-0.20854566991329193\n",
      "-0.9990922473371029\n",
      "-1.249130081385374\n",
      "-1.1073989998549223\n",
      "-0.7279588095843792\n",
      "-0.4123057872056961\n",
      "-0.2347961738705635\n",
      "-0.2128404825925827\n",
      "-0.2128404825925827\n",
      "-0.2128404825925827\n",
      "-0.2128404825925827\n",
      "-0.2128404825925827\n",
      "-0.2128404825925827\n",
      "-0.2128404825925827\n",
      "-0.2128404825925827\n",
      "-0.2128404825925827\n",
      "-0.2128404825925827\n",
      "-0.2128404825925827\n",
      "-0.2128404825925827\n",
      "0.5566998273134232\n",
      "1.3012244571000338\n",
      "0.5816632658243179\n",
      "-0.09879068285226822\n",
      "-0.3893255963921547\n",
      "-0.6528875902295113\n",
      "-0.341765321791172\n",
      "-0.46042338758707047\n",
      "-0.8605532422661781\n",
      "-0.8842228837311268\n",
      "-0.5425567775964737\n",
      "-0.23967521637678146\n",
      "-0.2128404825925827\n",
      "-0.2128404825925827\n",
      "-0.2128404825925827\n",
      "-0.2128404825925827\n",
      "-0.2128404825925827\n",
      "-0.2128404825925827\n",
      "-0.2128404825925827\n",
      "-0.2128404825925827\n",
      "-0.2128404825925827\n",
      "-0.2128404825925827\n",
      "-0.2128404825925827\n",
      "-0.2128404825925827\n",
      "-0.2128404825925827\n",
      "-0.2128404825925827\n",
      "0.49340130388736725\n",
      "1.0359446555376053\n",
      "0.648222915828228\n",
      "0.3627989813685417\n",
      "0.14988785237073898\n",
      "-0.23036430031061172\n",
      "-0.10910303890705109\n",
      "-0.522208109498024\n",
      "-0.542508140206337\n",
      "-0.25187282264232635\n",
      "-0.2128404825925827\n",
      "-0.2128404825925827\n",
      "-0.2128404825925827\n",
      "-0.2128404825925827\n",
      "-0.2128404825925827\n",
      "-0.2128404825925827\n",
      "-0.2128404825925827\n",
      "-0.2128404825925827\n",
      "-0.2128404825925827\n",
      "-0.2128404825925827\n",
      "-0.2128404825925827\n",
      "-0.2128404825925827\n",
      "-0.2128404825925827\n",
      "-0.2128404825925827\n",
      "-0.2128404825925827\n",
      "-0.2128404825925827\n",
      "-0.2128404825925827\n",
      "-0.2128404825925827\n",
      "-0.2128404825925827\n",
      "-0.2128404825925827\n",
      "-0.2128404825925827\n",
      "-0.2128404825925827\n",
      "-0.2128404825925827\n",
      "-0.2128404825925827\n",
      "-0.2128404825925827\n",
      "-0.2128404825925827\n",
      "-0.2128404825925827\n",
      "-0.2128404825925827\n",
      "-0.2128404825925827\n",
      "-0.2128404825925827\n",
      "-0.2128404825925827\n",
      "-0.2128404825925827\n",
      "-0.2128404825925827\n",
      "-0.2128404825925827\n",
      "-0.2128404825925827\n",
      "-0.2128404825925827\n",
      "-0.2128404825925827\n",
      "-0.2128404825925827\n",
      "-0.2128404825925827\n",
      "-0.2128404825925827\n"
     ]
    }
   ],
   "source": [
    "x_1 = conv(x, f1, b1)"
   ]
  },
  {
   "cell_type": "code",
   "execution_count": 33,
   "metadata": {},
   "outputs": [
    {
     "name": "stdout",
     "output_type": "stream",
     "text": [
      "0.08991239219903946\n",
      "0.08991239219903946\n",
      "0.08991239219903946\n",
      "0.08991239219903946\n",
      "0.08991239219903946\n",
      "0.08991239219903946\n",
      "0.08991239219903946\n",
      "0.08991239219903946\n",
      "0.08991239219903946\n",
      "0.08991239219903946\n",
      "0.08991239219903946\n",
      "0.08991239219903946\n",
      "0.08991239219903946\n",
      "0.08991239219903946\n",
      "0.08991239219903946\n",
      "0.08991239219903946\n",
      "0.08991239219903946\n",
      "0.08991239219903946\n",
      "0.08991239219903946\n",
      "0.08991239219903946\n",
      "0.08991239219903946\n",
      "0.08991239219903946\n",
      "0.08991239219903946\n",
      "0.08991239219903946\n",
      "0.08991239219903946\n",
      "0.08991239219903946\n",
      "0.08991239219903946\n",
      "0.08991239219903946\n",
      "0.08991239219903946\n",
      "0.08991239219903946\n",
      "0.08991239219903946\n",
      "0.08991239219903946\n",
      "0.08991239219903946\n",
      "0.08991239219903946\n",
      "0.08991239219903946\n",
      "0.08991239219903946\n",
      "0.08991239219903946\n",
      "0.08991239219903946\n",
      "0.08991239219903946\n",
      "0.08991239219903946\n",
      "0.08991239219903946\n",
      "0.08991239219903946\n",
      "0.08991239219903946\n",
      "0.08991239219903946\n",
      "0.08991239219903946\n",
      "0.08991239219903946\n",
      "0.08991239219903946\n",
      "0.08991239219903946\n",
      "0.08991239219903946\n",
      "0.08991239219903946\n",
      "0.08991239219903946\n",
      "0.08991239219903946\n",
      "0.08991239219903946\n",
      "0.08991239219903946\n",
      "0.08991239219903946\n",
      "0.08991239219903946\n",
      "0.08991239219903946\n",
      "0.08991239219903946\n",
      "0.08991239219903946\n",
      "0.08991239219903946\n",
      "0.08991239219903946\n",
      "0.08991239219903946\n",
      "0.08991239219903946\n",
      "0.08991239219903946\n",
      "0.08991239219903946\n",
      "0.08991239219903946\n",
      "0.08991239219903946\n",
      "0.08991239219903946\n",
      "0.08991239219903946\n",
      "0.08991239219903946\n",
      "0.08991239219903946\n",
      "0.08991239219903946\n",
      "0.08991239219903946\n",
      "0.08991239219903946\n",
      "0.08991239219903946\n",
      "0.08991239219903946\n",
      "0.08991239219903946\n",
      "0.08991239219903946\n",
      "0.08991239219903946\n",
      "0.08991239219903946\n",
      "0.08991239219903946\n",
      "0.08991239219903946\n",
      "0.08991239219903946\n",
      "0.08991239219903946\n",
      "0.08991239219903946\n",
      "0.08991239219903946\n",
      "0.08991239219903946\n",
      "0.08991239219903946\n",
      "0.10070255771279335\n",
      "0.16127445129677653\n",
      "0.20692934095859528\n",
      "0.2696773111820221\n",
      "0.6581232696771622\n",
      "0.9324486330151558\n",
      "1.5465763285756111\n",
      "1.13857052475214\n",
      "1.476410411298275\n",
      "1.4822048842906952\n",
      "2.2355035319924355\n",
      "2.158545382320881\n",
      "1.403453715145588\n",
      "0.6211785450577736\n",
      "0.08991239219903946\n",
      "0.08991239219903946\n",
      "0.08991239219903946\n",
      "0.08991239219903946\n",
      "0.08991239219903946\n",
      "0.08991239219903946\n",
      "0.08991239219903946\n",
      "0.08991239219903946\n",
      "0.19781404733657837\n",
      "0.28560497611761093\n",
      "0.6329529210925102\n",
      "1.001862533390522\n",
      "1.4399907975457609\n",
      "2.051722025615163\n",
      "2.3026141431182623\n",
      "2.672985346056521\n",
      "2.872210224159062\n",
      "2.862902108579874\n",
      "2.998359654098749\n",
      "2.4765015356242657\n",
      "2.8905112594366074\n",
      "2.706090845167637\n",
      "3.030190870165825\n",
      "2.327420137822628\n",
      "1.3957100957632065\n",
      "0.5537736937403679\n",
      "0.08991239219903946\n",
      "0.08991239219903946\n",
      "0.08991239219903946\n",
      "0.08991239219903946\n",
      "0.08991239219903946\n",
      "0.08991239219903946\n",
      "0.08991239219903946\n",
      "0.2661517634987831\n",
      "1.109416387975216\n",
      "1.7888289890252054\n",
      "2.764339393004775\n",
      "2.932128807529807\n",
      "3.0404112203978\n",
      "3.30704564624466\n",
      "3.322838613996282\n",
      "3.4653058853000402\n",
      "3.6313668601214886\n",
      "3.708354754373431\n",
      "3.2531863898038864\n",
      "2.5712409429252148\n",
      "2.163290413096547\n",
      "1.9849562607705593\n",
      "2.085364308208227\n",
      "1.4473875798285007\n",
      "0.8538762852549553\n",
      "0.30968668311834335\n",
      "0.08991239219903946\n",
      "0.08991239219903946\n",
      "0.08991239219903946\n",
      "0.08991239219903946\n",
      "0.08991239219903946\n",
      "0.08991239219903946\n",
      "0.08991239219903946\n",
      "0.24504245817661285\n",
      "1.3898890297859907\n",
      "2.114198060706258\n",
      "3.4396634623408318\n",
      "3.7399784848093987\n",
      "3.8580348938703537\n",
      "4.052983246743679\n",
      "3.9232774451375008\n",
      "3.8233793154358864\n",
      "3.791777975857258\n",
      "3.843033380806446\n",
      "2.9008916318416595\n",
      "2.261793637648225\n",
      "1.0765749718993902\n",
      "0.9958471786230803\n",
      "0.9690251778811216\n",
      "0.6194542981684208\n",
      "0.37660257890820503\n",
      "0.150855403393507\n",
      "0.08991239219903946\n",
      "0.08991239219903946\n",
      "0.08991239219903946\n",
      "0.08991239219903946\n",
      "0.08991239219903946\n",
      "0.08991239219903946\n",
      "0.08991239219903946\n",
      "0.19845902547240257\n",
      "1.1741745425388217\n",
      "1.8530826531350613\n",
      "2.6704445257782936\n",
      "3.472137503325939\n",
      "3.5893856659531593\n",
      "4.027489967644215\n",
      "3.122331853955984\n",
      "2.4384321961551905\n",
      "1.7963483072817326\n",
      "2.1889134272933006\n",
      "1.4730198681354523\n",
      "1.53066436201334\n",
      "0.3567946143448353\n",
      "0.30634238198399544\n",
      "0.2636389173567295\n",
      "0.1680838856846094\n",
      "0.1270495392382145\n",
      "0.08991239219903946\n",
      "0.08991239219903946\n",
      "0.08991239219903946\n",
      "0.08991239219903946\n",
      "0.08991239219903946\n",
      "0.08991239219903946\n",
      "0.08991239219903946\n",
      "0.08991239219903946\n",
      "0.11758922226727009\n",
      "0.5856887083500624\n",
      "0.9531519003212452\n",
      "1.1639832025393844\n",
      "2.175819239811972\n",
      "2.701991888694465\n",
      "3.1111859157681465\n",
      "2.4117738995701075\n",
      "1.427073707105592\n",
      "0.8705013394355774\n",
      "1.064170734025538\n",
      "0.5054841265082359\n",
      "0.55723587423563\n",
      "0.08991239219903946\n",
      "0.08991239219903946\n",
      "0.08991239219903946\n",
      "0.08991239219903946\n",
      "0.08991239219903946\n",
      "0.08991239219903946\n",
      "0.08991239219903946\n",
      "0.08991239219903946\n",
      "0.08991239219903946\n",
      "0.08991239219903946\n",
      "0.08991239219903946\n",
      "0.08991239219903946\n",
      "0.08991239219903946\n",
      "0.08991239219903946\n",
      "0.21292052417993546\n",
      "0.40657060593366623\n",
      "0.42824680369812995\n",
      "1.5010310722282156\n",
      "2.387414549011737\n",
      "2.9692738577723503\n",
      "2.330820070579648\n",
      "1.2303445204161108\n",
      "0.1748702386394143\n",
      "0.354097755625844\n",
      "0.2289697490632534\n",
      "0.2365565076470375\n",
      "0.08991239219903946\n",
      "0.08991239219903946\n",
      "0.08991239219903946\n",
      "0.08991239219903946\n",
      "0.08991239219903946\n",
      "0.08991239219903946\n",
      "0.08991239219903946\n",
      "0.08991239219903946\n",
      "0.08991239219903946\n",
      "0.08991239219903946\n",
      "0.08991239219903946\n",
      "0.08991239219903946\n",
      "0.08991239219903946\n",
      "0.08991239219903946\n",
      "0.08991239219903946\n",
      "0.1114388145506382\n",
      "0.10036920034326613\n",
      "0.6366451849462464\n",
      "1.7166246772394516\n",
      "2.4115820340812206\n",
      "2.3387097355443984\n",
      "1.6813727754633874\n",
      "0.38582503888756037\n",
      "0.08991239219903946\n",
      "0.08991239219903946\n",
      "0.08991239219903946\n",
      "0.08991239219903946\n",
      "0.08991239219903946\n",
      "0.08991239219903946\n",
      "0.08991239219903946\n",
      "0.08991239219903946\n",
      "0.08991239219903946\n",
      "0.08991239219903946\n",
      "0.08991239219903946\n",
      "0.08991239219903946\n",
      "0.08991239219903946\n",
      "0.08991239219903946\n",
      "0.08991239219903946\n",
      "0.08991239219903946\n",
      "0.08991239219903946\n",
      "0.08991239219903946\n",
      "0.08991239219903946\n",
      "0.08991239219903946\n",
      "0.3239304553717375\n",
      "1.0410271857399493\n",
      "2.0545186810195446\n",
      "2.3000569925643504\n",
      "2.725056298309937\n",
      "1.88271233078558\n",
      "1.0011789267882705\n",
      "0.5439047974068671\n",
      "0.09409559052437544\n",
      "0.08991239219903946\n",
      "0.08991239219903946\n",
      "0.08991239219903946\n",
      "0.08991239219903946\n",
      "0.08991239219903946\n",
      "0.08991239219903946\n",
      "0.08991239219903946\n",
      "0.08991239219903946\n",
      "0.08991239219903946\n",
      "0.08991239219903946\n",
      "0.08991239219903946\n",
      "0.08991239219903946\n",
      "0.08991239219903946\n",
      "0.08991239219903946\n",
      "0.08991239219903946\n",
      "0.08991239219903946\n",
      "0.08991239219903946\n",
      "0.10682601109147072\n",
      "0.4536282932385802\n",
      "1.3373530292883515\n",
      "1.9888044334948063\n",
      "2.763439666479826\n",
      "3.134475599974394\n",
      "2.355838409275748\n",
      "1.6673512490233406\n",
      "0.6444328208453953\n",
      "0.19449234008789062\n",
      "0.08991239219903946\n",
      "0.08991239219903946\n",
      "0.08991239219903946\n",
      "0.08991239219903946\n",
      "0.08991239219903946\n",
      "0.08991239219903946\n",
      "0.08991239219903946\n",
      "0.08991239219903946\n",
      "0.08991239219903946\n",
      "0.08991239219903946\n",
      "0.08991239219903946\n",
      "0.08991239219903946\n",
      "0.08991239219903946\n",
      "0.08991239219903946\n",
      "0.08991239219903946\n",
      "0.08991239219903946\n",
      "0.08991239219903946\n",
      "0.14372844994068146\n",
      "0.6321910638362169\n",
      "1.2064970340579748\n",
      "2.0071879662573338\n",
      "2.853216342628002\n",
      "3.104261028813198\n",
      "2.7558880989672616\n",
      "1.7547349879168905\n",
      "0.8155912198126316\n",
      "0.20285873860120773\n",
      "0.08991239219903946\n",
      "0.08991239219903946\n",
      "0.08991239219903946\n",
      "0.08991239219903946\n",
      "0.08991239219903946\n",
      "0.08991239219903946\n",
      "0.08991239219903946\n",
      "0.08991239219903946\n",
      "0.08991239219903946\n",
      "0.08991239219903946\n",
      "0.08991239219903946\n",
      "0.08991239219903946\n",
      "0.08991239219903946\n",
      "0.08991239219903946\n",
      "0.08991239219903946\n",
      "0.08991239219903946\n",
      "0.08991239219903946\n",
      "0.214458130300045\n",
      "0.5935511365532875\n",
      "1.0980498045682907\n",
      "1.7268520146608353\n",
      "2.5424825623631477\n",
      "2.9026696756482124\n",
      "2.906270883977413\n",
      "1.8094987603835762\n",
      "0.9138687625527382\n",
      "0.08991239219903946\n",
      "0.08991239219903946\n",
      "0.08991239219903946\n",
      "0.08991239219903946\n",
      "0.08991239219903946\n",
      "0.08991239219903946\n",
      "0.08991239219903946\n",
      "0.08991239219903946\n",
      "0.08991239219903946\n",
      "0.08991239219903946\n",
      "0.08991239219903946\n",
      "0.08991239219903946\n",
      "0.08991239219903946\n",
      "0.08991239219903946\n",
      "0.08991239219903946\n",
      "0.08991239219903946\n",
      "0.08991239219903946\n",
      "0.08991239219903946\n",
      "0.15910446643829346\n",
      "0.4340899735689163\n",
      "0.8077170979231596\n",
      "2.1784759033471346\n",
      "2.7277381867170334\n",
      "3.6326021552085876\n",
      "2.4307078570127487\n",
      "1.5872878823429346\n",
      "0.35763708502054214\n",
      "0.08991239219903946\n",
      "0.08991239219903946\n",
      "0.08991239219903946\n",
      "0.08991239219903946\n",
      "0.08991239219903946\n",
      "0.08991239219903946\n",
      "0.08991239219903946\n",
      "0.08991239219903946\n",
      "0.08991239219903946\n",
      "0.08991239219903946\n",
      "0.08991239219903946\n",
      "0.08991239219903946\n",
      "0.08991239219903946\n",
      "0.08991239219903946\n",
      "0.08991239219903946\n",
      "0.08991239219903946\n",
      "0.08991239219903946\n",
      "0.2553616091609001\n",
      "0.6836108006536961\n",
      "1.3806425426155329\n",
      "2.868867822922766\n",
      "3.364613227546215\n",
      "3.9186932668089867\n",
      "2.417156031355262\n",
      "1.5064202421344817\n",
      "0.19711929373443127\n",
      "0.08991239219903946\n",
      "0.08991239219903946\n",
      "0.08991239219903946\n",
      "0.08991239219903946\n",
      "0.08991239219903946\n",
      "0.08991239219903946\n",
      "0.08991239219903946\n",
      "0.08991239219903946\n",
      "0.08991239219903946\n",
      "0.08991239219903946\n",
      "0.08991239219903946\n",
      "0.08991239219903946\n",
      "0.08991239219903946\n",
      "0.08991239219903946\n",
      "0.08991239219903946\n",
      "0.23018454760313034\n",
      "0.708300992846489\n",
      "1.4882004112005234\n",
      "2.3523900248110294\n",
      "2.8914197459816933\n",
      "3.6199143044650555\n",
      "3.837771974503994\n",
      "3.8433299586176872\n",
      "2.3765670333523303\n",
      "1.4483076247852296\n",
      "0.1539441691711545\n",
      "0.08991239219903946\n",
      "0.08991239219903946\n",
      "0.08991239219903946\n",
      "0.08991239219903946\n",
      "0.08991239219903946\n",
      "0.08991239219903946\n",
      "0.08991239219903946\n",
      "0.08991239219903946\n",
      "0.08991239219903946\n",
      "0.08991239219903946\n",
      "0.08991239219903946\n",
      "0.08991239219903946\n",
      "0.08991239219903946\n",
      "0.1762337163090706\n",
      "0.5529071725904942\n",
      "1.3087272644042969\n",
      "2.227508205920458\n",
      "2.9981024116277695\n",
      "3.482223056256771\n",
      "3.779961198568344\n",
      "3.8513822108507156\n",
      "3.383750833570957\n",
      "2.4854766204953194\n",
      "1.1313927830196917\n",
      "0.5693767929915339\n",
      "0.09181686129886657\n",
      "0.08991239219903946\n",
      "0.08991239219903946\n",
      "0.08991239219903946\n",
      "0.08991239219903946\n",
      "0.08991239219903946\n",
      "0.08991239219903946\n",
      "0.08991239219903946\n",
      "0.08991239219903946\n",
      "0.08991239219903946\n",
      "0.08991239219903946\n",
      "0.08991239219903946\n",
      "0.1726370006799698\n",
      "0.3780575059354305\n",
      "1.1421632133424282\n",
      "1.9501944417133927\n",
      "2.9246881548315287\n",
      "3.4549871664494276\n",
      "3.8431377224624157\n",
      "3.8870382234454155\n",
      "3.437256745994091\n",
      "2.5917490627616644\n",
      "1.7026225575245917\n",
      "1.068684896454215\n",
      "0.5643825605511665\n",
      "0.26321908086538315\n",
      "0.08991239219903946\n",
      "0.08991239219903946\n",
      "0.08991239219903946\n",
      "0.08991239219903946\n",
      "0.08991239219903946\n",
      "0.08991239219903946\n",
      "0.08991239219903946\n",
      "0.08991239219903946\n",
      "0.08991239219903946\n",
      "0.08991239219903946\n",
      "0.1546533927321434\n",
      "0.7446782141923904\n",
      "1.372719932347536\n",
      "2.3143849428743124\n",
      "2.9227569829672575\n",
      "3.3210779670625925\n",
      "3.782537395134568\n",
      "3.8387753888964653\n",
      "3.4194210842251778\n",
      "2.5966354310512543\n",
      "1.724806286394596\n",
      "1.1273782134521753\n",
      "0.7033960062544793\n",
      "0.3340930240228772\n",
      "0.16418668627738953\n",
      "0.08991239219903946\n",
      "0.08991239219903946\n",
      "0.08991239219903946\n",
      "0.08991239219903946\n",
      "0.08991239219903946\n",
      "0.08991239219903946\n",
      "0.08991239219903946\n",
      "0.08991239219903946\n",
      "0.08991239219903946\n",
      "0.2877321019768715\n",
      "0.8299346566200256\n",
      "1.5456589944660664\n",
      "2.5289931194856763\n",
      "2.926864016801119\n",
      "3.407254260033369\n",
      "3.7479704916477203\n",
      "3.9642108157277107\n",
      "3.7105734571814537\n",
      "2.9202436469495296\n",
      "1.9498561415821314\n",
      "1.1396683603525162\n",
      "0.702754242811352\n",
      "0.34703346202149987\n",
      "0.16831756033934653\n",
      "0.09181686129886657\n",
      "0.08991239219903946\n",
      "0.08991239219903946\n",
      "0.08991239219903946\n",
      "0.08991239219903946\n",
      "0.08991239219903946\n",
      "0.08991239219903946\n",
      "0.08991239219903946\n",
      "0.08991239219903946\n",
      "0.08991239219903946\n",
      "0.08991239219903946\n",
      "0.6805237308144569\n",
      "1.603187331929803\n",
      "2.61248610727489\n",
      "3.565262461081147\n",
      "3.682674093171954\n",
      "3.5854875072836876\n",
      "3.300613857805729\n",
      "2.5704407319426537\n",
      "2.0418832786381245\n",
      "1.2217151876538992\n",
      "0.7806436989922076\n",
      "0.35739165265113115\n",
      "0.1718249348923564\n",
      "0.09848250355571508\n",
      "0.08991239219903946\n",
      "0.08991239219903946\n",
      "0.08991239219903946\n",
      "0.08991239219903946\n",
      "0.08991239219903946\n",
      "0.08991239219903946\n",
      "0.08991239219903946\n",
      "0.08991239219903946\n",
      "0.08991239219903946\n",
      "0.08991239219903946\n",
      "0.08991239219903946\n",
      "0.08991239219903946\n",
      "0.42535628378391266\n",
      "0.8211717382073402\n",
      "1.2110824845731258\n",
      "1.5791045650839806\n",
      "1.5720948800444603\n",
      "1.4663018472492695\n",
      "1.4172363504767418\n",
      "1.0712691526859999\n",
      "0.8905244898051023\n",
      "0.44861382618546486\n",
      "0.22356754448264837\n",
      "0.10038697253912687\n",
      "0.08991239219903946\n",
      "0.08991239219903946\n",
      "0.08991239219903946\n",
      "0.08991239219903946\n",
      "0.08991239219903946\n",
      "0.08991239219903946\n",
      "0.08991239219903946\n",
      "0.08991239219903946\n",
      "0.08991239219903946\n",
      "0.08991239219903946\n",
      "0.08991239219903946\n",
      "0.08991239219903946\n",
      "0.08991239219903946\n",
      "0.08991239219903946\n",
      "0.2990262284874916\n",
      "0.565569318830967\n",
      "0.7696123048663139\n",
      "0.8810237273573875\n",
      "0.8179820701479912\n",
      "0.6734662279486656\n",
      "0.5807561799883842\n",
      "0.3271610625088215\n",
      "0.22580073215067387\n",
      "0.10514814499765635\n",
      "0.08991239219903946\n",
      "0.08991239219903946\n",
      "0.08991239219903946\n",
      "0.08991239219903946\n",
      "0.08991239219903946\n",
      "0.08991239219903946\n",
      "0.08991239219903946\n",
      "0.08991239219903946\n",
      "0.08991239219903946\n",
      "0.08991239219903946\n",
      "0.08991239219903946\n",
      "0.08991239219903946\n",
      "0.08991239219903946\n",
      "0.08991239219903946\n",
      "0.08991239219903946\n",
      "0.08991239219903946\n",
      "0.08991239219903946\n",
      "0.08991239219903946\n",
      "0.08991239219903946\n",
      "0.08991239219903946\n",
      "0.08991239219903946\n",
      "0.08991239219903946\n",
      "0.08991239219903946\n",
      "0.08991239219903946\n",
      "0.08991239219903946\n",
      "0.08991239219903946\n",
      "0.08991239219903946\n",
      "0.08991239219903946\n",
      "0.08991239219903946\n",
      "0.08991239219903946\n",
      "0.08991239219903946\n",
      "0.08991239219903946\n",
      "0.08991239219903946\n",
      "0.08991239219903946\n",
      "0.08991239219903946\n",
      "0.08991239219903946\n",
      "0.08991239219903946\n",
      "0.08991239219903946\n",
      "0.08991239219903946\n",
      "0.08991239219903946\n"
     ]
    }
   ],
   "source": [
    "x_2 = conv(x, f2, b2)"
   ]
  },
  {
   "cell_type": "code",
   "execution_count": 34,
   "metadata": {},
   "outputs": [
    {
     "data": {
      "text/plain": [
       "<matplotlib.image.AxesImage at 0x2592b05a550>"
      ]
     },
     "execution_count": 34,
     "metadata": {},
     "output_type": "execute_result"
    },
    {
     "data": {
      "image/png": "[encoded data removed]",
      "text/plain": [
       "<Figure size 432x288 with 1 Axes>"
      ]
     },
     "metadata": {
      "needs_background": "light"
     },
     "output_type": "display_data"
    }
   ],
   "source": [
    "plt.imshow(x_1, cmap='gray')"
   ]
  },
  {
   "cell_type": "code",
   "execution_count": 35,
   "metadata": {},
   "outputs": [
    {
     "data": {
      "text/plain": [
       "<matplotlib.image.AxesImage at 0x2592b0abd00>"
      ]
     },
     "execution_count": 35,
     "metadata": {},
     "output_type": "execute_result"
    },
    {
     "data": {
      "image/png": "[encoded data removed]",
      "text/plain": [
       "<Figure size 432x288 with 1 Axes>"
      ]
     },
     "metadata": {
      "needs_background": "light"
     },
     "output_type": "display_data"
    }
   ],
   "source": [
    "plt.imshow(x_2, cmap='gray')"
   ]
  },
  {
   "cell_type": "markdown",
   "metadata": {},
   "source": [
    "### Funkcja aktywacji"
   ]
  },
  {
   "cell_type": "markdown",
   "metadata": {},
   "source": [
    "\\begin{equation}\n",
    "  ReLu =\n",
    "    \\begin{cases}\n",
    "      z_i & \\text{$z_i$ => 0}\\\\\n",
    "      0 & \\text{$z_i$ < 0}\\\\\n",
    "    \\end{cases}       \n",
    "\\end{equation}"
   ]
  },
  {
   "cell_type": "code",
   "execution_count": 36,
   "metadata": {},
   "outputs": [],
   "source": [
    "def relu(x):\n",
    "    return np.maximum(x,0)"
   ]
  },
  {
   "cell_type": "code",
   "execution_count": 37,
   "metadata": {},
   "outputs": [],
   "source": [
    "x_1 = relu(x_1)\n",
    "x_2 = relu(x_2)"
   ]
  },
  {
   "cell_type": "markdown",
   "metadata": {},
   "source": [
    "### Output pierwszej warstwy konwolucyjnej"
   ]
  },
  {
   "cell_type": "code",
   "execution_count": 38,
   "metadata": {},
   "outputs": [
    {
     "data": {
      "text/plain": [
       "<matplotlib.image.AxesImage at 0x2592b0f7940>"
      ]
     },
     "execution_count": 38,
     "metadata": {},
     "output_type": "execute_result"
    },
    {
     "data": {
      "image/png": "[encoded data removed]",
      "text/plain": [
       "<Figure size 432x288 with 1 Axes>"
      ]
     },
     "metadata": {
      "needs_background": "light"
     },
     "output_type": "display_data"
    }
   ],
   "source": [
    "plt.imshow(x_1, cmap='gray')"
   ]
  },
  {
   "cell_type": "code",
   "execution_count": 39,
   "metadata": {},
   "outputs": [
    {
     "data": {
      "text/plain": [
       "<matplotlib.image.AxesImage at 0x2592b153370>"
      ]
     },
     "execution_count": 39,
     "metadata": {},
     "output_type": "execute_result"
    },
    {
     "data": {
      "image/png": "[encoded data removed]",
      "text/plain": [
       "<Figure size 432x288 with 1 Axes>"
      ]
     },
     "metadata": {
      "needs_background": "light"
     },
     "output_type": "display_data"
    }
   ],
   "source": [
    "plt.imshow(x_2, cmap='gray')"
   ]
  },
  {
   "cell_type": "markdown",
   "metadata": {},
   "source": [
    "### Funkcja MaxPooling2D"
   ]
  },
  {
   "cell_type": "code",
   "execution_count": 40,
   "metadata": {},
   "outputs": [],
   "source": [
    "def get_values(img, a, b):\n",
    "    values = []\n",
    "    \n",
    "    for i in range(2):\n",
    "        for j in range(2):\n",
    "            values.append(img[a+i][b+j])\n",
    "            \n",
    "    return values"
   ]
  },
  {
   "cell_type": "code",
   "execution_count": 41,
   "metadata": {},
   "outputs": [],
   "source": [
    "import math\n",
    "\n",
    "def maxpool(img):\n",
    "    output = []\n",
    "    \n",
    "    dim_x = math.floor(((img.shape[0] - 2) / 2) + 1)\n",
    "    dim_y = math.floor(((img.shape[1] - 2) / 2) + 1)\n",
    "    \n",
    "    for i in range(dim_x):\n",
    "        max_values = []\n",
    "        \n",
    "        for j in range(dim_y):\n",
    "            max_values.append(max(get_values(img, 2*i, 2*j)))\n",
    "    \n",
    "        output.append(max_values)\n",
    "    \n",
    "    return output"
   ]
  },
  {
   "cell_type": "code",
   "execution_count": 42,
   "metadata": {},
   "outputs": [],
   "source": [
    "x_1 = maxpool(x_1)\n",
    "x_2 = maxpool(x_2)"
   ]
  },
  {
   "cell_type": "markdown",
   "metadata": {},
   "source": [
    "### Wynik pierwszej warstwy konwolucyjnej po operecji MaxPooling2D"
   ]
  },
  {
   "cell_type": "code",
   "execution_count": 43,
   "metadata": {},
   "outputs": [
    {
     "data": {
      "text/plain": [
       "<matplotlib.image.AxesImage at 0x2592c17acd0>"
      ]
     },
     "execution_count": 43,
     "metadata": {},
     "output_type": "execute_result"
    },
    {
     "data": {
      "image/png": "[encoded data removed]",
      "text/plain": [
       "<Figure size 432x288 with 1 Axes>"
      ]
     },
     "metadata": {
      "needs_background": "light"
     },
     "output_type": "display_data"
    }
   ],
   "source": [
    "plt.imshow(x_1, cmap='gray')"
   ]
  },
  {
   "cell_type": "code",
   "execution_count": 44,
   "metadata": {},
   "outputs": [
    {
     "data": {
      "text/plain": [
       "<matplotlib.image.AxesImage at 0x2592c1d15e0>"
      ]
     },
     "execution_count": 44,
     "metadata": {},
     "output_type": "execute_result"
    },
    {
     "data": {
      "image/png": "[encoded data removed]",
      "text/plain": [
       "<Figure size 432x288 with 1 Axes>"
      ]
     },
     "metadata": {
      "needs_background": "light"
     },
     "output_type": "display_data"
    }
   ],
   "source": [
    "plt.imshow(x_2, cmap='gray')"
   ]
  },
  {
   "cell_type": "markdown",
   "metadata": {},
   "source": [
    "# Przejście przez drugą warstwę konwolucyjną"
   ]
  },
  {
   "cell_type": "code",
   "execution_count": 45,
   "metadata": {},
   "outputs": [],
   "source": [
    "x_1 = np.array(x_1)\n",
    "x_2 = np.array(x_2)"
   ]
  },
  {
   "cell_type": "code",
   "execution_count": 46,
   "metadata": {},
   "outputs": [],
   "source": [
    "x_1_f1 = get_filter(conv_index[1], 0, 0)\n",
    "x_1_f2 = get_filter(conv_index[1], 1, 0)\n",
    "\n",
    "x_2_f1 = get_filter(conv_index[1], 0, 1) \n",
    "x_2_f2 = get_filter(conv_index[1], 1, 1)\n",
    "\n",
    "b1 = get_bias(conv_index[1], 0)\n",
    "b2 = get_bias(conv_index[1], 1)"
   ]
  },
  {
   "cell_type": "code",
   "execution_count": 47,
   "metadata": {},
   "outputs": [
    {
     "name": "stdout",
     "output_type": "stream",
     "text": [
      "0.0\n",
      "1.2147930083035052\n",
      "1.5487171345751043\n",
      "1.2138228190092222\n",
      "1.3049341509383279\n",
      "1.8750786206337162\n",
      "1.6894651895077066\n",
      "3.0732896236053433\n",
      "2.6750402845024084\n",
      "1.687774065151085\n",
      "0.8536970413543893\n",
      "0.09649306714181627\n",
      "2.777173726309215\n",
      "3.210497473685959\n",
      "3.649068251790834\n",
      "3.2166076516586557\n",
      "3.47559371538878\n",
      "2.655933175681552\n",
      "3.2862355815539175\n",
      "2.5264989608736608\n",
      "2.0046265032611736\n",
      "0.6310661838339899\n",
      "0.06769744616712803\n",
      "3.3426221870933452\n",
      "4.79394076648613\n",
      "7.20726061275367\n",
      "4.094145288178099\n",
      "3.7872921471795413\n",
      "2.4504590607127854\n",
      "2.0883643163420764\n",
      "0.688191452525582\n",
      "0.8148760938291066\n",
      "0.10397675292893593\n",
      "0.05354055139884917\n",
      "1.9560149007158758\n",
      "3.693816405537697\n",
      "8.095898089214941\n",
      "5.032960156559089\n",
      "3.7574541116487836\n",
      "1.0403711401575961\n",
      "1.2533685451668986\n",
      "0.029475289979906005\n",
      "0.08514965357970805\n",
      "0.0\n",
      "0.0\n",
      "0.7119838107209688\n",
      "1.7161517544489728\n",
      "6.219073984200842\n",
      "5.951893442021871\n",
      "4.67212614152836\n",
      "0.30211931534400305\n",
      "0.3852665092461486\n",
      "0.0\n",
      "0.0\n",
      "0.0\n",
      "0.0\n",
      "0.0\n",
      "0.5489755399086595\n",
      "2.8385351691021183\n",
      "4.563596815160588\n",
      "6.5606790406110695\n",
      "3.929554451742046\n",
      "1.0190137530799979\n",
      "-0.0306832645595546\n",
      "0.0\n",
      "0.0\n",
      "0.0\n",
      "0.0\n",
      "0.0\n",
      "1.5368807812516119\n",
      "3.587006870414639\n",
      "7.065734151394376\n",
      "7.773662723160881\n",
      "3.9348715195164026\n",
      "1.225154230577974\n",
      "0.0\n",
      "0.0\n",
      "0.0\n",
      "0.07239700594450227\n",
      "1.4047117589120295\n",
      "2.4965071337468516\n",
      "3.9463243856744787\n",
      "6.050953598401992\n",
      "6.842097203560495\n",
      "5.223720492195567\n",
      "2.656425946277442\n",
      "0.0\n",
      "0.0\n",
      "1.608655446800996\n",
      "1.984995220379968\n",
      "3.076257890971043\n",
      "4.20120459770698\n",
      "4.629032946611553\n",
      "4.831694271672091\n",
      "4.211661890894984\n",
      "2.5282822275775114\n",
      "1.0870754108667702\n",
      "0.0\n",
      "0.0\n",
      "3.3435554464618282\n",
      "4.011326950310815\n",
      "4.56442678617386\n",
      "4.149571505060944\n",
      "3.860468876601914\n",
      "2.533640868413013\n",
      "0.836766078401307\n",
      "0.4349229408641747\n",
      "0.04700713809793755\n",
      "0.0\n",
      "0.0\n",
      "3.858096462177491\n",
      "4.552812512430157\n",
      "3.713802083205988\n",
      "2.502286266816319\n",
      "0.9595666074840269\n",
      "0.5582656339334843\n",
      "0.007649958512107036\n",
      "0.0\n",
      "0.0\n",
      "0.0\n",
      "0.0\n",
      "-0.032546835845640054\n",
      "-0.23251783321661726\n",
      "-0.43460718698808776\n",
      "0.03569052213155466\n",
      "0.4091407954558086\n",
      "0.25057401560449377\n",
      "-0.013447128727222757\n",
      "0.3085818233837183\n",
      "0.055231080966850477\n",
      "0.24121194924166112\n",
      "1.6175836684196296\n",
      "-0.10359598230943118\n",
      "-1.01857504494552\n",
      "-2.0714808648742724\n",
      "-1.321527548866536\n",
      "-0.41309879350664686\n",
      "-0.3427777694845288\n",
      "-0.37666618345607633\n",
      "0.29410840330783306\n",
      "0.1539091000771801\n",
      "-0.2758580140603116\n",
      "1.5652079632301517\n",
      "-0.0988453834620319\n",
      "-1.2587396263685198\n",
      "-3.187567042469475\n",
      "-2.679745742767524\n",
      "-1.2261987678597905\n",
      "-0.34331045770212715\n",
      "-0.0715590466837503\n",
      "0.7394510454884425\n",
      "0.5977082099774639\n",
      "-0.043093710161690585\n",
      "1.057396900611265\n",
      "-0.03994879486201597\n",
      "-0.6684862907558318\n",
      "-2.3057960604701995\n",
      "-2.7659815564599466\n",
      "-1.577793149934919\n",
      "0.5207233309142855\n",
      "1.226446690524162\n",
      "1.4150095192140104\n",
      "1.140381299924369\n",
      "0.045694086479244556\n",
      "0.2742307853059461\n",
      "-0.014322335634065042\n",
      "-0.12705463638891135\n",
      "-0.8229705445617663\n",
      "-2.0504423946349037\n",
      "-2.410587956530761\n",
      "-0.25837113743363943\n",
      "1.5179529198844588\n",
      "1.766394809081837\n",
      "1.4416953004410673\n",
      "0.29848075528218393\n",
      "-0.011267308736331139\n",
      "-0.011267308736331139\n",
      "-0.01364344065367823\n",
      "-0.08763349601475634\n",
      "-1.0247672157227283\n",
      "-2.5371549132918583\n",
      "-1.9812517948295003\n",
      "-0.6276791589849775\n",
      "1.283833288722586\n",
      "2.2781511973115705\n",
      "1.2291114320907672\n",
      "0.10300804578120343\n",
      "-0.011267308736331139\n",
      "-0.011267308736331139\n",
      "-0.013134269675391497\n",
      "-0.28267348867714925\n",
      "-1.5959003851784788\n",
      "-2.457226197498031\n",
      "-1.816664583078984\n",
      "0.20896224228454685\n",
      "2.9871452807258616\n",
      "2.1039237241941637\n",
      "0.13252600226263828\n",
      "-0.011267308736331139\n",
      "-0.04605857991455142\n",
      "-0.26223683664973285\n",
      "-0.7367196880942005\n",
      "-1.2290360098096385\n",
      "-1.7604161350025536\n",
      "-1.6354902463318441\n",
      "0.03295130289859513\n",
      "2.7662426239050486\n",
      "2.227751139143474\n",
      "0.15206153786305035\n",
      "-0.3734529038066176\n",
      "-0.4393589486350793\n",
      "-0.5823812446228855\n",
      "-1.18441371163205\n",
      "-1.2629829342353536\n",
      "-1.142863503412889\n",
      "-0.4853581447826988\n",
      "0.6065070098157583\n",
      "2.000233818718669\n",
      "1.4282393381440666\n",
      "0.03878785433312941\n",
      "-1.75259430107959\n",
      "-1.8061125596198189\n",
      "-1.0325555577959853\n",
      "-1.2328567903898389\n",
      "-0.6713066905223016\n",
      "0.25241431009169196\n",
      "0.6952176993362663\n",
      "0.7015704485102995\n",
      "1.2799206876251334\n",
      "0.4946327852174398\n",
      "-0.01039049573134905\n",
      "-2.5154925087504987\n",
      "-2.7283081771261175\n",
      "-1.3519125904832507\n",
      "-0.47403740655299664\n",
      "0.4954530181657152\n",
      "0.7341861533268451\n",
      "1.0086023837285207\n",
      "0.5080625974012257\n",
      "0.24028609731894518\n",
      "0.02292839808278896\n",
      "-0.011267308736331139\n"
     ]
    }
   ],
   "source": [
    "x_1_1 = np.array(conv(x_1, x_1_f1, 0))\n",
    "x_2_1 = np.array(conv(x_2, x_2_f1, 0))\n",
    "\n",
    "X_1 = x_1_1 + x_2_1 + b1"
   ]
  },
  {
   "cell_type": "code",
   "execution_count": 48,
   "metadata": {},
   "outputs": [
    {
     "name": "stdout",
     "output_type": "stream",
     "text": [
      "0.0\n",
      "1.009799359191531\n",
      "1.4346691823328184\n",
      "1.6307430331463229\n",
      "1.5652349087054132\n",
      "2.054197417599238\n",
      "1.6069084751410896\n",
      "2.4746730734846945\n",
      "1.699165162691274\n",
      "0.6556794105595317\n",
      "0.15152886615714578\n",
      "0.08021007422680793\n",
      "2.457375416827878\n",
      "2.2245799470971996\n",
      "2.5032287082645364\n",
      "2.0230288395410567\n",
      "1.977647149641167\n",
      "1.1337881523079474\n",
      "1.4894759667088417\n",
      "0.5085253761095339\n",
      "0.6501234199338708\n",
      "0.139730561369671\n",
      "0.067167214302855\n",
      "2.1611120117526754\n",
      "2.6413937592692323\n",
      "4.463499013697833\n",
      "2.613206284489535\n",
      "2.511120636039149\n",
      "0.9278505018126469\n",
      "0.6362338453701857\n",
      "0.5461004816027224\n",
      "0.2845410177681932\n",
      "0.031102933131856636\n",
      "-0.016205245203801733\n",
      "0.6171383327799048\n",
      "2.4066330439632235\n",
      "4.3362500562765955\n",
      "1.8744343946436421\n",
      "1.8845327119848814\n",
      "0.3266429420861219\n",
      "0.12683089492585248\n",
      "0.07510663358942526\n",
      "0.02547111644562028\n",
      "0.0\n",
      "0.0\n",
      "-0.2154978223500041\n",
      "0.9578212929377881\n",
      "3.335264599321231\n",
      "3.321564498837588\n",
      "2.1974484247817445\n",
      "1.148328168847221\n",
      "0.2728883906495839\n",
      "0.0\n",
      "0.0\n",
      "0.0\n",
      "0.0\n",
      "0.0\n",
      "-0.16615972384812783\n",
      "1.498556260408201\n",
      "3.0652590667209574\n",
      "2.8917938681062365\n",
      "2.721198644180742\n",
      "1.5036020001814845\n",
      "0.5425635277391461\n",
      "0.0\n",
      "0.0\n",
      "0.0\n",
      "0.0\n",
      "0.0\n",
      "0.12396490284097039\n",
      "2.6283696590647647\n",
      "5.07916616657438\n",
      "5.053818592619468\n",
      "2.363165985454615\n",
      "0.9582055818608533\n",
      "0.0\n",
      "0.0\n",
      "0.0\n",
      "0.060180170375065956\n",
      "1.1764479351871173\n",
      "2.193516144504236\n",
      "3.1565775799411044\n",
      "4.158345122397556\n",
      "3.2173615982218022\n",
      "1.2467390518313013\n",
      "0.3695090256831604\n",
      "0.0\n",
      "0.0\n",
      "1.3961967699872009\n",
      "2.027079714505915\n",
      "3.3839779884893133\n",
      "3.1511854293772257\n",
      "2.1359974648145412\n",
      "1.224346765421251\n",
      "1.0096781330774993\n",
      "1.300166691833355\n",
      "0.3030089481255153\n",
      "0.0\n",
      "0.0\n",
      "2.7793166893927825\n",
      "2.9269485549392265\n",
      "1.9770357319426834\n",
      "1.6094167969270632\n",
      "0.5974973776837452\n",
      "0.6668907036191106\n",
      "0.5382589671708291\n",
      "0.16669541214716965\n",
      "0.014061411150042002\n",
      "0.0\n",
      "0.0\n",
      "1.7841651715713838\n",
      "1.9339927534312142\n",
      "0.8390963674801164\n",
      "0.6671275951342887\n",
      "0.6925523010230534\n",
      "0.17295151458027014\n",
      "0.002288359093365444\n",
      "0.0\n",
      "0.0\n",
      "0.0\n",
      "0.0\n",
      "-0.3351004351242791\n",
      "-0.850033992847901\n",
      "-2.9652698912309834\n",
      "-4.165024825082945\n",
      "-4.508562188887518\n",
      "-5.1264852970063375\n",
      "-6.1078138661922825\n",
      "-5.576381949187801\n",
      "-5.488486605490289\n",
      "-5.460743391549446\n",
      "-1.489899963838027\n",
      "-0.4399900494384692\n",
      "-2.0548566130772823\n",
      "-6.396787932264454\n",
      "-8.714029599117223\n",
      "-8.847583079195921\n",
      "-9.605850332498374\n",
      "-10.035600090535157\n",
      "-7.682541444547849\n",
      "-6.370565295307756\n",
      "-4.737813555971571\n",
      "0.03432539090117481\n",
      "-0.6370618436040676\n",
      "-4.132765629170544\n",
      "-9.254945516564261\n",
      "-11.693079019783262\n",
      "-12.017737532553435\n",
      "-10.640628799722448\n",
      "-7.77177564211816\n",
      "-5.03373882879732\n",
      "-3.8222542665436254\n",
      "-1.9878587237256777\n",
      "0.4762921212607756\n",
      "-0.5249410421041426\n",
      "-3.5638275403209185\n",
      "-7.287036035431112\n",
      "-9.481502743916618\n",
      "-10.909706944113\n",
      "-8.91809867032318\n",
      "-5.271056864557849\n",
      "-0.9730638320139768\n",
      "-0.5200179607747039\n",
      "-0.4836655890677863\n",
      "-0.08117292860239667\n",
      "-0.3383082063093549\n",
      "-1.4654033677906777\n",
      "-3.4985449304889005\n",
      "-6.318799825630042\n",
      "-8.205407121788827\n",
      "-6.834667365026186\n",
      "-4.7960289709427055\n",
      "-2.627309382963852\n",
      "-0.3061187278556602\n",
      "-0.12384313008401782\n",
      "-0.301494563427506\n",
      "-0.301494563427506\n",
      "-0.330127395403638\n",
      "-1.0410282681336223\n",
      "-4.236953247815731\n",
      "-6.700304358638871\n",
      "-7.309570061974628\n",
      "-6.788118609208684\n",
      "-5.541389534476582\n",
      "-2.029100914423996\n",
      "0.1496801017196986\n",
      "-0.23595361940190662\n",
      "-0.301494563427506\n",
      "-0.301494563427506\n",
      "-0.3239917903212889\n",
      "-2.1570912968345537\n",
      "-5.8876839952889215\n",
      "-9.802123048861171\n",
      "-11.590958475055837\n",
      "-8.219637081534628\n",
      "-2.355235519852838\n",
      "0.8593634227980912\n",
      "-0.19434431090614324\n",
      "-0.301494563427506\n",
      "-0.35643897029223554\n",
      "-1.023406985671552\n",
      "-3.791027051300555\n",
      "-8.028414554050661\n",
      "-11.880294656397762\n",
      "-13.517417940538772\n",
      "-9.485569731171653\n",
      "-0.8839112342753278\n",
      "1.210904207035501\n",
      "-0.1939973559579079\n",
      "-1.7096085960097585\n",
      "-4.039125301594913\n",
      "-6.015943168374112\n",
      "-9.220489208747027\n",
      "-11.899029189755925\n",
      "-12.544531161653714\n",
      "-9.897673799661765\n",
      "-4.884383119910693\n",
      "0.7643788183755734\n",
      "0.6696353495235102\n",
      "-0.27103300846053846\n",
      "-4.9027825922637875\n",
      "-8.911979724561851\n",
      "-11.051984840062394\n",
      "-12.388853120007637\n",
      "-10.391478464462699\n",
      "-7.25237361487543\n",
      "-4.368112341920797\n",
      "-0.8712217437329705\n",
      "0.6592095507767651\n",
      "0.011119546849338635\n",
      "-0.30096365520137125\n",
      "-7.542713137905919\n",
      "-9.87335889395261\n",
      "-9.264298465384945\n",
      "-7.473156691360917\n",
      "-4.809778846185363\n",
      "-1.615309335882043\n",
      "-0.17739593679860682\n",
      "0.027265205495262346\n",
      "-0.1368856188047588\n",
      "-0.28078914283542045\n",
      "-0.301494563427506\n"
     ]
    }
   ],
   "source": [
    "x_1_2 = np.array(conv(x_1, x_1_f2, 0))\n",
    "x_2_2 = np.array(conv(x_2, x_2_f2, 0))\n",
    "\n",
    "X_2 = x_1_2 + x_2_2 + b2"
   ]
  },
  {
   "cell_type": "code",
   "execution_count": 49,
   "metadata": {},
   "outputs": [
    {
     "data": {
      "text/plain": [
       "<matplotlib.image.AxesImage at 0x2592c236820>"
      ]
     },
     "execution_count": 49,
     "metadata": {},
     "output_type": "execute_result"
    },
    {
     "data": {
      "image/png": "[encoded data removed]",
      "text/plain": [
       "<Figure size 432x288 with 1 Axes>"
      ]
     },
     "metadata": {
      "needs_background": "light"
     },
     "output_type": "display_data"
    }
   ],
   "source": [
    "plt.imshow(X_1, cmap='gray')"
   ]
  },
  {
   "cell_type": "code",
   "execution_count": 50,
   "metadata": {},
   "outputs": [
    {
     "data": {
      "text/plain": [
       "<matplotlib.image.AxesImage at 0x2592c288fd0>"
      ]
     },
     "execution_count": 50,
     "metadata": {},
     "output_type": "execute_result"
    },
    {
     "data": {
      "image/png": "[encoded data removed]",
      "text/plain": [
       "<Figure size 432x288 with 1 Axes>"
      ]
     },
     "metadata": {
      "needs_background": "light"
     },
     "output_type": "display_data"
    }
   ],
   "source": [
    "plt.imshow(X_2, cmap='gray')"
   ]
  },
  {
   "cell_type": "markdown",
   "metadata": {},
   "source": [
    "### Funkcja aktywacji"
   ]
  },
  {
   "cell_type": "markdown",
   "metadata": {},
   "source": [
    "$\n",
    "\\begin{equation}\n",
    "\\large sigmoid(z_i) = \\frac{1}{1 + e^{z_i}}\n",
    "\\end{equation}\n",
    "$"
   ]
  },
  {
   "cell_type": "code",
   "execution_count": 51,
   "metadata": {},
   "outputs": [],
   "source": [
    "X_1 = tf.math.sigmoid(X_1)\n",
    "X_2 = tf.math.sigmoid(X_2)"
   ]
  },
  {
   "cell_type": "markdown",
   "metadata": {},
   "source": [
    "### Wynik drugiej warstwy konwolucyjnej"
   ]
  },
  {
   "cell_type": "code",
   "execution_count": 52,
   "metadata": {},
   "outputs": [
    {
     "data": {
      "text/plain": [
       "<matplotlib.image.AxesImage at 0x2592c2e6670>"
      ]
     },
     "execution_count": 52,
     "metadata": {},
     "output_type": "execute_result"
    },
    {
     "data": {
      "image/png": "[encoded data removed]",
      "text/plain": [
       "<Figure size 432x288 with 1 Axes>"
      ]
     },
     "metadata": {
      "needs_background": "light"
     },
     "output_type": "display_data"
    }
   ],
   "source": [
    "plt.imshow(X_1, cmap='gray')"
   ]
  },
  {
   "cell_type": "code",
   "execution_count": 53,
   "metadata": {},
   "outputs": [
    {
     "data": {
      "text/plain": [
       "<matplotlib.image.AxesImage at 0x2592c33c6a0>"
      ]
     },
     "execution_count": 53,
     "metadata": {},
     "output_type": "execute_result"
    },
    {
     "data": {
      "image/png": "[encoded data removed]",
      "text/plain": [
       "<Figure size 432x288 with 1 Axes>"
      ]
     },
     "metadata": {
      "needs_background": "light"
     },
     "output_type": "display_data"
    }
   ],
   "source": [
    "plt.imshow(X_2, cmap='gray')"
   ]
  },
  {
   "cell_type": "markdown",
   "metadata": {},
   "source": [
    "### Wynik drugiej warstwy konwolucyjnej po operacji MaxPooling2D"
   ]
  },
  {
   "cell_type": "code",
   "execution_count": 54,
   "metadata": {},
   "outputs": [
    {
     "data": {
      "text/plain": [
       "<matplotlib.image.AxesImage at 0x2592c392820>"
      ]
     },
     "execution_count": 54,
     "metadata": {},
     "output_type": "execute_result"
    },
    {
     "data": {
      "image/png": "[encoded data removed]",
      "text/plain": [
       "<Figure size 432x288 with 1 Axes>"
      ]
     },
     "metadata": {
      "needs_background": "light"
     },
     "output_type": "display_data"
    }
   ],
   "source": [
    "plt.imshow(maxpool(X_1), cmap='gray')"
   ]
  },
  {
   "cell_type": "code",
   "execution_count": 55,
   "metadata": {},
   "outputs": [
    {
     "data": {
      "text/plain": [
       "<matplotlib.image.AxesImage at 0x2592c3dffa0>"
      ]
     },
     "execution_count": 55,
     "metadata": {},
     "output_type": "execute_result"
    },
    {
     "data": {
      "image/png": "[encoded data removed]",
      "text/plain": [
       "<Figure size 432x288 with 1 Axes>"
      ]
     },
     "metadata": {
      "needs_background": "light"
     },
     "output_type": "display_data"
    }
   ],
   "source": [
    "plt.imshow(maxpool(X_2), cmap='gray')"
   ]
  },
  {
   "cell_type": "code",
   "execution_count": null,
   "metadata": {},
   "outputs": [],
   "source": []
  }
 ],
 "metadata": {
  "kernelspec": {
   "display_name": "Python 3",
   "language": "python",
   "name": "python3"
  },
  "language_info": {
   "codemirror_mode": {
    "name": "ipython",
    "version": 3
   },
   "file_extension": ".py",
   "mimetype": "text/x-python",
   "name": "python",
   "nbconvert_exporter": "python",
   "pygments_lexer": "ipython3",
   "version": "3.8.5"
  }
 },
 "nbformat": 4,
 "nbformat_minor": 4
}
